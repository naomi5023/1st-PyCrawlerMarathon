{
  "nbformat": 4,
  "nbformat_minor": 0,
  "metadata": {
    "kernelspec": {
      "display_name": "Python 3",
      "language": "python",
      "name": "python3"
    },
    "language_info": {
      "codemirror_mode": {
        "name": "ipython",
        "version": 3
      },
      "file_extension": ".py",
      "mimetype": "text/x-python",
      "name": "python",
      "nbconvert_exporter": "python",
      "pygments_lexer": "ipython3",
      "version": "3.6.5"
    },
    "colab": {
      "name": "Day013_HW.ipynb",
      "provenance": []
    }
  },
  "cells": [
    {
      "cell_type": "markdown",
      "metadata": {
        "id": "-cP2UaUoMtgO",
        "colab_type": "text"
      },
      "source": [
        "# PTT 網路爬蟲實作練習\n",
        "\n",
        "\n",
        "* 能夠利用 Request + BeatifulSour 撰寫爬蟲，並存放到合適的資料結構\n"
      ]
    },
    {
      "cell_type": "markdown",
      "metadata": {
        "id": "BM0wRzIYMtgT",
        "colab_type": "text"
      },
      "source": [
        "## 作業目標\n",
        "\n",
        "根據範例 ，完成以下問題：\n",
        "\n",
        "* ① 印出最新文章的「作者」「標題」「時間」\n",
        "* ② 印出第一頁所有文章的「作者」「標題」「時間」\n"
      ]
    },
    {
      "cell_type": "code",
      "metadata": {
        "id": "SxffF3O9NHMg",
        "colab_type": "code",
        "colab": {}
      },
      "source": [
        "import requests\n",
        "from bs4 import BeautifulSoup"
      ],
      "execution_count": 0,
      "outputs": []
    },
    {
      "cell_type": "markdown",
      "metadata": {
        "id": "jGxRwOMyMtgU",
        "colab_type": "text"
      },
      "source": [
        "### ① 印出最新文章的「作者」「標題」「時間」"
      ]
    },
    {
      "cell_type": "code",
      "metadata": {
        "id": "_BKY7q91MtgW",
        "colab_type": "code",
        "colab": {
          "base_uri": "https://localhost:8080/",
          "height": 69
        },
        "outputId": "16425359-ce2b-42f0-cc93-20eede233938"
      },
      "source": [
        "url = 'https://www.ptt.cc/bbs/NBA/index.html'\n",
        "r = requests.get(url, timeout=3, cookies={'over18': '1'})\n",
        "soup = BeautifulSoup(r.text, \"html5lib\")\n",
        "target = soup.find(class_=\"r-ent\")\n",
        "\n",
        "content_url = \"https://www.ptt.cc\" + target.find('a')['href']\n",
        "\n",
        "# request article content\n",
        "\n",
        "def find_by_url(content_url) -> Dict[str, str]:\n",
        "    ret = {}\n",
        "    r = requests.get(content_url, timeout=3, cookies={'over18': '1'})\n",
        "    soup = BeautifulSoup(r.text, \"html5lib\")\n",
        "    for meta_data in soup.find_all(class_=\"article-metaline\"):\n",
        "        if meta_data.find(class_=\"article-meta-tag\").text == \"標題\":\n",
        "            title = meta_data.find(class_=\"article-meta-value\").text\n",
        "            ret[\"title\"] = title\n",
        "\n",
        "        if meta_data.find(class_=\"article-meta-tag\").text == \"作者\":\n",
        "            author = meta_data.find(class_=\"article-meta-value\").text\n",
        "            ret[\"author\"] = author\n",
        "\n",
        "        if meta_data.find(class_=\"article-meta-tag\").text == \"時間\":\n",
        "            time = meta_data.find(class_=\"article-meta-value\").text\n",
        "            ret[\"time\"] = time\n",
        "    return ret\n",
        "\n",
        "ret = find_by_url(content_url)\n",
        "print(ret[\"title\"])\n",
        "print(ret[\"author\"])\n",
        "print(ret[\"time\"])"
      ],
      "execution_count": 74,
      "outputs": [
        {
          "output_type": "stream",
          "text": [
            "[新聞] 關鍵時刻表現不佳 Embiid：必須做自己\n",
            "iam168888888 (射精)\n",
            "Wed Dec 11 23:50:42 2019\n"
          ],
          "name": "stdout"
        }
      ]
    },
    {
      "cell_type": "markdown",
      "metadata": {
        "id": "PBu_mpwGMtgg",
        "colab_type": "text"
      },
      "source": [
        "### ② 印出第一頁所有文章的「作者」「標題」「時間」"
      ]
    },
    {
      "cell_type": "code",
      "metadata": {
        "id": "nBJU4L35Mtgh",
        "colab_type": "code",
        "colab": {
          "base_uri": "https://localhost:8080/",
          "height": 364
        },
        "outputId": "a445d991-0a86-4a05-c5d8-8e6ccb3c8130"
      },
      "source": [
        "url = 'https://www.ptt.cc/bbs/NBA/index.html'\n",
        "r = requests.get(url, cookies={'over18': '1'})\n",
        "\n",
        "soup = BeautifulSoup(r.text, \"html5lib\")\n",
        "\n",
        "for node in soup.find_all(class_=\"r-ent\"):\n",
        "    path = node.find('a')\n",
        "    if not path: # 文章已刪除\n",
        "        continue\n",
        "    content_url = \"https://www.ptt.cc\" + node.find('a')['href']\n",
        "    ret = find_by_url(content_url)\n",
        "    if ret: # 公告內的文章內容無作者, 標題, 時間資訊\n",
        "        print(ret[\"title\"])\n",
        "        print(ret[\"author\"])\n",
        "        print(ret[\"time\"])\n",
        "        print(\"=====\")"
      ],
      "execution_count": 75,
      "outputs": [
        {
          "output_type": "stream",
          "text": [
            "[新聞] 關鍵時刻表現不佳 Embiid：必須做自己\n",
            "iam168888888 (射精)\n",
            "Wed Dec 11 23:50:42 2019\n",
            "=====\n",
            "[公告] 樂透取消及未來不再開啟樂透\n",
            "Vedan (味丹)\n",
            "Mon Jun 24 15:08:02 2019\n",
            "=====\n",
            "[公告] 版主上任相關事項\n",
            "qazwsx879345 (Rajon Rondo)\n",
            "Fri Oct 25 10:44:03 2019\n",
            "=====\n",
            "[情報] SEASON Schedule 賽程 December 19–20\n",
            "JerroLi (銀色小刀)\n",
            "Fri Nov 29 00:46:01 2019\n",
            "=====\n",
            "[公告]是否禁止basketball top 5文章投票開始\n",
            "dragon803 (好想去露營啊~)\n",
            "Sun Dec  8 23:55:00 2019\n",
            "=====\n"
          ],
          "name": "stdout"
        }
      ]
    },
    {
      "cell_type": "markdown",
      "metadata": {
        "id": "Kxo2ZBWDMtgm",
        "colab_type": "text"
      },
      "source": [
        "### ③ 試著爬爬看其他版的文章"
      ]
    },
    {
      "cell_type": "code",
      "metadata": {
        "id": "vz3o5rt7Mtgn",
        "colab_type": "code",
        "colab": {
          "base_uri": "https://localhost:8080/",
          "height": 433
        },
        "outputId": "dbe556ce-f151-4aeb-c5ec-e920ef3dcd5c"
      },
      "source": [
        "url = 'https://www.ptt.cc/bbs/sex/index.html'\n",
        "r = requests.get(url, cookies={'over18': '1'})\n",
        "\n",
        "soup = BeautifulSoup(r.text, \"html5lib\")\n",
        "\n",
        "for node in soup.find_all(class_=\"r-ent\"):\n",
        "    path = node.find('a')\n",
        "    if not path: # 文章已刪除\n",
        "        continue\n",
        "    content_url = \"https://www.ptt.cc\" + node.find('a')['href']\n",
        "    ret = find_by_url(content_url)\n",
        "    if ret: # 公告內的文章內容無作者, 標題, 時間資訊\n",
        "        print(ret[\"title\"])\n",
        "        print(ret[\"author\"])\n",
        "        print(ret[\"time\"])\n",
        "        print(\"=====\")"
      ],
      "execution_count": 76,
      "outputs": [
        {
          "output_type": "stream",
          "text": [
            "[新聞] 影/太惡劣！15歲正妹遭霸凌 「裸半身」被\n",
            "superme0678 (超級我)\n",
            "Thu Dec 12 00:10:12 2019\n",
            "=====\n",
            "[新聞] 女房客與房東同床3個月 控遭性侵不起訴\n",
            "deepdish (Keep The Faith)\n",
            "Thu Dec 12 00:51:22 2019\n",
            "=====\n",
            "[閒聊] 關於vinix\n",
            "kaka168 ()\n",
            "Thu Dec 12 01:39:05 2019\n",
            "=====\n",
            "Fw: [公告] 請使用者多加注意我國保護兒少的法令\n",
            "FallRed (☆╮落紅a圓仔╭㊣)\n",
            "Mon Jul 29 22:03:19 2019\n",
            "=====\n",
            "[公告] 2019 冬季徵文 \n",
            "Assisi (Francesco d'Assisi)\n",
            "Mon Nov 25 06:47:01 2019\n",
            "=====\n",
            "[公告] 2019 拾貳月 西斯置底閒聊區\n",
            "Assisi (Francesco d'Assisi)\n",
            "Sun Dec  1 18:06:54 2019\n",
            "=====\n"
          ],
          "name": "stdout"
        }
      ]
    }
  ]
}