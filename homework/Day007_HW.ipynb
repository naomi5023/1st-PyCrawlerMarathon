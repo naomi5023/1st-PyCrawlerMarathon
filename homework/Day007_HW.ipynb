{
  "nbformat": 4,
  "nbformat_minor": 0,
  "metadata": {
    "kernelspec": {
      "display_name": "Python 3",
      "language": "python",
      "name": "python3"
    },
    "language_info": {
      "codemirror_mode": {
        "name": "ipython",
        "version": 3
      },
      "file_extension": ".py",
      "mimetype": "text/x-python",
      "name": "python",
      "nbconvert_exporter": "python",
      "pygments_lexer": "ipython3",
      "version": "3.6.5"
    },
    "colab": {
      "name": "Day007_HW.ipynb",
      "provenance": [],
      "collapsed_sections": []
    }
  },
  "cells": [
    {
      "cell_type": "markdown",
      "metadata": {
        "id": "hELBpu9ilTgr",
        "colab_type": "text"
      },
      "source": [
        "# HTTP 靜態網頁架構說明\n",
        "\n",
        "* 認識靜態網頁的溝通架構與運作原理\n",
        "* HTML、CSS、JavaScript 在網頁中扮演的角色\n",
        "* 網頁中定位資料的方法"
      ]
    },
    {
      "cell_type": "markdown",
      "metadata": {
        "id": "RrEOKQX7lTgv",
        "colab_type": "text"
      },
      "source": [
        "## 作業目標\n",
        "\n",
        "1. （簡答題）請問目前提到的這種基於 HTTP 一來一回的網頁傳輸方式，有哪些缺點及問題？\n",
        "\n",
        "\n",
        "\n",
        "2. （簡答題）網頁中使用的 JavaScipt 程式語言，跟我們一般使用的 Python 在執行上有什麼不同。"
      ]
    },
    {
      "cell_type": "markdown",
      "metadata": {
        "id": "3Q06Fdq7lTgw",
        "colab_type": "text"
      },
      "source": [
        "### 1.（簡答題）請問目前提到的這種基於 HTTP 一來一回的網頁傳輸方式，有哪些缺點及問題？\n",
        "\n",
        "這種一來一回的方式，必須要等 client 發出請求 server 端才會回應, 所以如果需要連續的像 server 端拿資料只能以輪詢的方式, 而不是以事件觸發的方式.\n",
        "(但這種情況在後來的 HTTP 版本得到解決 (server push))"
      ]
    },
    {
      "cell_type": "markdown",
      "metadata": {
        "id": "IHVpgB7DlTg9",
        "colab_type": "text"
      },
      "source": [
        "### 2. （簡答題）網頁中使用的 JavaScipt 程式語言，跟我們一般使用的 Python 在執行上有什麼不同。\n",
        "\n",
        "- javascript 最常使用在瀏覽器之中, 像是頁面的互動等等\n",
        "- python 應用的領域很廣, 目前最常使用在數據分析, 機械學習領域"
      ]
    }
  ]
}