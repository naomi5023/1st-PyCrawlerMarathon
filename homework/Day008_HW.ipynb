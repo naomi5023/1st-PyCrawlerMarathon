{
  "nbformat": 4,
  "nbformat_minor": 0,
  "metadata": {
    "kernelspec": {
      "display_name": "Python 3",
      "language": "python",
      "name": "python3"
    },
    "language_info": {
      "codemirror_mode": {
        "name": "ipython",
        "version": 3
      },
      "file_extension": ".py",
      "mimetype": "text/x-python",
      "name": "python",
      "nbconvert_exporter": "python",
      "pygments_lexer": "ipython3",
      "version": "3.6.5"
    },
    "colab": {
      "name": "Day008_HW.ipynb",
      "provenance": [],
      "collapsed_sections": []
    }
  },
  "cells": [
    {
      "cell_type": "markdown",
      "metadata": {
        "id": "9GXVyX-dogKN",
        "colab_type": "text"
      },
      "source": [
        "# 靜態網頁的資料爬蟲策略\n",
        "\n",
        "\n",
        "* 了解靜態網頁的資料爬蟲策略\n",
        "* 認識適用於靜態網頁爬蟲的相關套件工具：Request\n",
        "* 認識適用於靜態網頁爬蟲的相關套件工具：BeatifulSoup"
      ]
    },
    {
      "cell_type": "markdown",
      "metadata": {
        "id": "WrPOwyUYogKR",
        "colab_type": "text"
      },
      "source": [
        "## 作業目標\n",
        "\n",
        "利用 Request + BeatifulSoup 爬取下列兩個網站內容並解析：\n",
        "\n",
        "1. Dcared 網址： https://www.dcard.tw/f\n",
        "2. 知乎： https://www.zhihu.com/explore\n",
        "\n",
        "並且回答下面問題：\n",
        "\n",
        "1. Request 取回之後該怎麼取出資料，資料型態是什麼？\n",
        "2. 為什麼要使用 BeatifulSoup 處理？處理後的型態是什麼？\n",
        "3. 觀察一下知乎回來的資料好像有點怪怪的，該怎麼解決？"
      ]
    },
    {
      "cell_type": "markdown",
      "metadata": {
        "id": "QtWT8Hl_ogKT",
        "colab_type": "text"
      },
      "source": [
        "### 1. Dcard 網址： https://www.dcard.tw/f"
      ]
    },
    {
      "cell_type": "code",
      "metadata": {
        "id": "It05GaM4ogKV",
        "colab_type": "code",
        "colab": {}
      },
      "source": [
        "import requests\n",
        "from bs4 import BeautifulSoup\n"
      ],
      "execution_count": 0,
      "outputs": []
    },
    {
      "cell_type": "code",
      "metadata": {
        "id": "OZNGg_dcogKZ",
        "colab_type": "code",
        "colab": {
          "base_uri": "https://localhost:8080/",
          "height": 55
        },
        "outputId": "4ebe522d-3603-41ef-c7e9-19356f8236d3"
      },
      "source": [
        "url = 'https://www.dcard.tw/f'\n",
        "\n",
        "r = requests.get(url)\n",
        "response = r.text\n",
        "\n",
        "soup = BeautifulSoup(response, \"html5lib\")\n",
        "\n",
        "print(response[0:3000])"
      ],
      "execution_count": 10,
      "outputs": [
        {
          "output_type": "stream",
          "text": [
            "<!DOCTYPE html><html lang=\"zh-Hant-TW\"><head prefix=\"og: http://ogp.me/ns#\" itemscope=\"\" itemType=\"https://schema.org/WebSite\"><title data-react-helmet=\"true\">Dcard</title><meta data-react-helmet=\"true\" property=\"og:image\" content=\"https://www.dcard.tw/build/landing-c9e7b8fb.png\"/><meta data-react-helmet=\"true\" property=\"og:image:secure_url\" content=\"https://www.dcard.tw/build/landing-c9e7b8fb.png\"/><meta data-react-helmet=\"true\" charSet=\"utf-8\"/><meta data-react-helmet=\"true\" http-equiv=\"X-UA-Compatible\" content=\"IE=edge\"/><meta data-react-helmet=\"true\" name=\"application-name\" content=\"Dcard\"/><meta data-react-helmet=\"true\" name=\"apple-itunes-app\" content=\"app-id=951353454\"/><meta data-react-helmet=\"true\" name=\"theme-color\" content=\"#006aa6\"/><meta data-react-helmet=\"true\" name=\"mobile-web-app-capable\" content=\"yes\"/><meta data-react-helmet=\"true\" name=\"apple-mobile-web-app-capable\" content=\"yes\"/><meta data-react-helmet=\"true\" property=\"fb:app_id\" content=\"211628828926493\"/><meta data-react-helmet=\"true\" property=\"fb:pages\" content=\"178875832200695,577748865730563,1333515469994506,619122564952487,804004803032067,178024805867764\"/><meta data-react-helmet=\"true\" property=\"al:ios:app_store_id\" content=\"951353454\"/><meta data-react-helmet=\"true\" property=\"al:ios:app_name\" content=\"Dcard\"/><meta data-react-helmet=\"true\" property=\"al:android:package\" content=\"com.sparkslab.dcardreader\"/><meta data-react-helmet=\"true\" property=\"al:android:app_name\" content=\"Dcard\"/><meta data-react-helmet=\"true\" property=\"og:type\" content=\"website\"/><meta data-react-helmet=\"true\" property=\"og:site_name\" content=\"Dcard\"/><meta data-react-helmet=\"true\" property=\"og:title\" content=\"Dcard\"/><meta data-react-helmet=\"true\" property=\"og:url\" content=\"https://www.dcard.tw/f\"/><meta data-react-helmet=\"true\" name=\"description\" content=\"廣受年輕人喜愛的  Dcard  是台灣最大的匿名交流平台，舉凡時事話題、感情心情、吃喝玩樂、學習工作等，都有卡友陪你聊！\"/><meta data-react-helmet=\"true\" property=\"og:description\" content=\"廣受年輕人喜愛的  Dcard  是台灣最大的匿名交流平台，舉凡時事話題、感情心情、吃喝玩樂、學習工作等，都有卡友陪你聊！\"/><meta data-react-helmet=\"true\" property=\"al:ios:url\" content=\"dcard://category/all/全部/hot\"/><meta data-react-helmet=\"true\" property=\"al:android:url\" content=\"dcard://category/all/全部/hot\"/><link data-react-helmet=\"true\" rel=\"icon\" sizes=\"32x32\" type=\"image/png\" href=\"/build/favicon_32-44259074.png\"/><link data-react-helmet=\"true\" rel=\"icon\" sizes=\"72x72\" type=\"image/png\" href=\"/build/favicon_72-45b1e0ba.png\"/><link data-react-helmet=\"true\" rel=\"icon\" sizes=\"512x512\" type=\"image/png\" href=\"/build/favicon_512-8aee0703.png\"/><link data-react-helmet=\"true\" rel=\"apple-touch-icon-precomposed\" href=\"/build/favicon_144-79557003.png\"/><link data-react-helmet=\"true\" rel=\"apple-touch-icon-precomposed\" href=\"/build/favicon_114-4a463b43.png\"/><link data-react-helmet=\"true\" rel=\"apple-touch-icon-precomposed\" href=\"/build/favicon_72-45b1e0ba.png\"/><link data-react-helmet=\"true\" rel=\"apple-touch-icon-precomposed\" href=\"/build/favicon_57-835f1693.png\"/><link data-react-helm\n"
          ],
          "name": "stdout"
        }
      ]
    },
    {
      "cell_type": "code",
      "metadata": {
        "id": "x8b1VAQUogKg",
        "colab_type": "code",
        "colab": {
          "base_uri": "https://localhost:8080/",
          "height": 52
        },
        "outputId": "557dfdf2-12de-474e-c309-9693ff0e7292"
      },
      "source": [
        "print('Request 取回之後該怎麼取出資料，資料型態是什麼？ =>')\n",
        "print(type(response))"
      ],
      "execution_count": 9,
      "outputs": [
        {
          "output_type": "stream",
          "text": [
            "Request 取回之後該怎麼取出資料，資料型態是什麼？ =>\n",
            "<class 'str'>\n"
          ],
          "name": "stdout"
        }
      ]
    },
    {
      "cell_type": "code",
      "metadata": {
        "id": "DjRmImz4ogKp",
        "colab_type": "code",
        "colab": {
          "base_uri": "https://localhost:8080/",
          "height": 52
        },
        "outputId": "d62beed8-cfec-4316-e5b0-428a947874d8"
      },
      "source": [
        "print('為什麼要使用 BeatifulSoup 處理？處理後的型態是什麼？ => ')\n",
        "print(type(soup))"
      ],
      "execution_count": 11,
      "outputs": [
        {
          "output_type": "stream",
          "text": [
            "為什麼要使用 BeatifulSoup 處理？處理後的型態是什麼？ => \n",
            "<class 'bs4.BeautifulSoup'>\n"
          ],
          "name": "stdout"
        }
      ]
    },
    {
      "cell_type": "markdown",
      "metadata": {
        "id": "U57F07fgogKu",
        "colab_type": "text"
      },
      "source": [
        "### 2. 知乎： https://www.zhihu.com/explore"
      ]
    },
    {
      "cell_type": "code",
      "metadata": {
        "id": "tN0dFbdHogKv",
        "colab_type": "code",
        "colab": {},
        "outputId": "2ce0f3f8-69e6-4b3b-f8f8-da49e886762c"
      },
      "source": [
        "url = 'https://www.zhihu.com/explore'\n",
        "r = requests.get(url)\n",
        "r.encoding = 'utf-8'\n",
        "\n",
        "print(r.text[0:600])"
      ],
      "execution_count": 0,
      "outputs": [
        {
          "output_type": "stream",
          "text": [
            "<html>\r\n",
            "<head><title>400 Bad Request</title></head>\r\n",
            "<body bgcolor=\"white\">\r\n",
            "<center><h1>400 Bad Request</h1></center>\r\n",
            "<hr><center>openresty</center>\r\n",
            "</body>\r\n",
            "</html>\r\n",
            "\n"
          ],
          "name": "stdout"
        }
      ]
    },
    {
      "cell_type": "markdown",
      "metadata": {
        "id": "AwmgxzZBogKy",
        "colab_type": "text"
      },
      "source": [
        "### 3. 觀察一下知乎回來的資料好像有點怪怪的，該怎麼解決？"
      ]
    },
    {
      "cell_type": "code",
      "metadata": {
        "id": "28ayn2mtogK0",
        "colab_type": "code",
        "colab": {
          "base_uri": "https://localhost:8080/",
          "height": 72
        },
        "outputId": "5fc405f7-49ad-45b7-9f1f-97f21a51c2ad"
      },
      "source": [
        "import requests\n",
        "url = 'https://www.zhihu.com/explore'\n",
        "\n",
        "headers = {'User-Agent': 'Mozilla/5.0 (Macintosh; Intel Mac OS X 10_15_1) AppleWebKit/537.36 (KHTML, like Gecko) Chrome/78.0.3904.97 Safari/537.36'}\n",
        "r = requests.get(url, headers=headers)\n",
        "\n",
        "r.encoding = 'utf-8'\n",
        "print(r.text[0:600])"
      ],
      "execution_count": 15,
      "outputs": [
        {
          "output_type": "stream",
          "text": [
            "<!doctype html>\n",
            "<html lang=\"zh\" data-hairline=\"true\" data-theme=\"light\"><head><meta charSet=\"utf-8\"/><title data-react-helmet=\"true\">发现 - 知乎</title><meta name=\"viewport\" content=\"width=device-width,initial-scale=1,maximum-scale=1\"/><meta name=\"renderer\" content=\"webkit\"/><meta name=\"force-rendering\" content=\"webkit\"/><meta http-equiv=\"X-UA-Compatible\" content=\"IE=edge,chrome=1\"/><meta name=\"google-site-verification\" content=\"FTeR0c8arOPKh8c5DYh_9uu98_zJbaWw53J-Sch9MTg\"/><meta name=\"description\" property=\"og:description\" content=\"有问题，上知乎。知乎，可信赖的问答社区，以让每个人高效获得可信赖的解答为使命。知乎凭借认真、专业和友善的社区氛围，结构化、易获得的\n"
          ],
          "name": "stdout"
        }
      ]
    }
  ]
}